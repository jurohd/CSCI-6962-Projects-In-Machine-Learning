{
 "cells": [
  {
   "cell_type": "markdown",
   "id": "d3e7797e",
   "metadata": {},
   "source": [
    "### Task 1(20 points): We discussed how we can formulate RL problems as an MDP. Describe any real-world application that can be formulated as an MDP. Describe what the state space, action space, transition model, and reward are. You do not ne ed to be precise in the description of the transition model and reward (no formula is needed). Qualitative description is enough.\n"
   ]
  },
  {
   "cell_type": "markdown",
   "id": "4b1146b8",
   "metadata": {},
   "source": [
    "Think of grid world robot example: each cell in the m by n grid is a state, Actions are left, right, up, down, and robot can take one action per time step, also actions are stochastic, meaning that transition from one cell to the other is, say only 80% correct. Agent gets rewards only if it is in some particular cells, and goal of agent is to maximize reward"
   ]
  },
  {
   "cell_type": "markdown",
   "id": "479c5098",
   "metadata": {},
   "source": [
    "### Task 2(30 points): RL is used in various sectors - Healthcare, recommender systems and trading are a few of those. Pick one of the three areas. Explain one of the problems in any of these domains that can be more effectively solved by reinforcement learning. Find an open-source project (if any) that has addressed this problem. Explain this project in detail."
   ]
  },
  {
   "cell_type": "markdown",
   "id": "d3105b7c",
   "metadata": {},
   "source": [
    "Health / Wellness apps have historically suffered from low adoption rates. Personalized recommendations have the potential of improving adoption, by making increasingly relevant and timely recommendations to users. While recommendation engines (and consequently, the apps based on them) have grown in maturity, they still suffer from the ‘cold start’ problem and the fact that it is basically a push-based mechanism lacking the level of interactivity needed to make such apps appealing to millennials.\n",
    "\n",
    "#### paper: Delayed Rewards in the context of Reinforcement Learning based Recommender Systems\n",
    "\n",
    "They present a Wellness app case-study where they applied a combination of Reinforcement Learning (RL) and Natural Language Processing (NLP) / Chatbots to provide a highly personalized and interactive experience to users. They focus on the interactive aspect of the app, where the app is able to profile and converse with users in real-time, providing relevant content adapted to the current sentiment and past preferences of the user.\n",
    "\n",
    "RL is able to achieve complex goals by maximizing a reward function in real-time. It also allows it to adapt faster to real-time changes in the user sentiment. Previous works have explored RL in the context of Recommender Systems, and enterprise adoption also seems to be gaining momentum with the recent availability of Cloud APIs (e.g. Azure Personalizer ) and Google’s RecSim . However, they still work like a typical Recommender System. Given a user profile and categorized recommendations, the system makes a recommendation based on popularity, interests, demographics, frequency and other features. The main novelty of these systems is that they are able to identify the features (or combination of features) of recommendations getting higher rewards for a specific user; which can then be customized for that user to provide better recommendations.\n"
   ]
  },
  {
   "cell_type": "markdown",
   "id": "e63c34d8",
   "metadata": {},
   "source": [
    "### Task 3(50 points): Implement the game of tic-tac-toe (write a class that implements an agent playing Tic Tac Toe and learning its Q function) using the Q-learning technique (see the resource provided in class for more details). Clearly describe your evaluation metric and demonstrate a few runs. You might need to use some online resources to proceed on this. Do not forget to cite those."
   ]
  },
  {
   "cell_type": "code",
   "execution_count": 3,
   "id": "52992ebb",
   "metadata": {},
   "outputs": [
    {
     "data": {
      "text/plain": [
       "[(0, 1),\n",
       " (0, 3),\n",
       " (0, 5),\n",
       " (0, 7),\n",
       " (0, 9),\n",
       " (1, 1),\n",
       " (1, 3),\n",
       " (1, 5),\n",
       " (1, 7),\n",
       " (1, 9),\n",
       " (2, 1),\n",
       " (2, 3),\n",
       " (2, 5),\n",
       " (2, 7),\n",
       " (2, 9),\n",
       " (3, 1),\n",
       " (3, 3),\n",
       " (3, 5),\n",
       " (3, 7),\n",
       " (3, 9),\n",
       " (4, 1),\n",
       " (4, 3),\n",
       " (4, 5),\n",
       " (4, 7),\n",
       " (4, 9),\n",
       " (5, 1),\n",
       " (5, 3),\n",
       " (5, 5),\n",
       " (5, 7),\n",
       " (5, 9),\n",
       " (6, 1),\n",
       " (6, 3),\n",
       " (6, 5),\n",
       " (6, 7),\n",
       " (6, 9),\n",
       " (7, 1),\n",
       " (7, 3),\n",
       " (7, 5),\n",
       " (7, 7),\n",
       " (7, 9),\n",
       " (8, 1),\n",
       " (8, 3),\n",
       " (8, 5),\n",
       " (8, 7),\n",
       " (8, 9)]"
      ]
     },
     "execution_count": 3,
     "metadata": {},
     "output_type": "execute_result"
    }
   ],
   "source": [
    "from TCGame_Env import TicTacToe #environment file for tic-tac-toe game\n",
    "import collections\n",
    "import numpy as np\n",
    "import random\n",
    "import pickle\n",
    "import collections\n",
    "from matplotlib import pyplot as plt\n",
    "from matplotlib import pyplot as plt\n",
    "## defining object for the Tictac toe environment created as MDP in TCGame_env\n",
    "env = TicTacToe()\n",
    "\n",
    "def Q_state(state):\n",
    "    return ('-'.join(str(e) for e in state)).replace('nan','x')\n",
    "\n",
    "# Defining a function which will return valid actions \n",
    "def valid_actions(state):\n",
    "\n",
    "    valid_Actions = []\n",
    "    valid_Actions = [i for i in env.action_space(state)[0]]\n",
    "    return valid_Actions\n",
    "\n",
    "# Defining a function which will add new Q-values to the Q-dictionary. \n",
    "def add_to_dict(state):\n",
    "    state1 = Q_state(state)\n",
    "    \n",
    "    valid_act = valid_actions(state)\n",
    "    if state1 not in Q_dict.keys():\n",
    "        for action in valid_act:\n",
    "            Q_dict[state1][action]=0\n",
    "# printing the default tic tac toe board positions\n",
    "Q_state(env.state)\n",
    "# Printing all the valid actions\n",
    "valid_actions(env.state)"
   ]
  },
  {
   "cell_type": "markdown",
   "id": "c1ab1869",
   "metadata": {},
   "source": [
    "#### Epsilon-greedy strategy"
   ]
  },
  {
   "cell_type": "code",
   "execution_count": 4,
   "id": "6cf6aeee",
   "metadata": {},
   "outputs": [],
   "source": [
    "# Defining epsilon-greedy policy. You can choose any function epsilon-decay strategy\n",
    "def epsilon_greedy(state, time):\n",
    "    epsilon = min_epsilon + (max_epsilon - min_epsilon) * np.exp(-decay_rate*time)\n",
    "    # print(epsilon)\n",
    "    z = np.random.random()\n",
    "        \n",
    "    if z > epsilon:\n",
    "        state1 = Q_state(state)\n",
    "        action = max(Q_dict[state1],key=Q_dict[state1].get)   #Exploitation: this gets the action corresponding to max q-value of current state\n",
    "    else:\n",
    "        possible_action = [i for i in env.action_space(state)[0]]        \n",
    "        action = possible_action[np.random.choice(range(len(possible_action)))]    #Exploration: randomly choosing and action\n",
    "    \n",
    "    return action"
   ]
  },
  {
   "cell_type": "code",
   "execution_count": 5,
   "id": "cf777b8e",
   "metadata": {},
   "outputs": [],
   "source": [
    "# Initialising Q_dictionary and States_track\n",
    "Q_dict = collections.defaultdict(dict)\n",
    "States_track =collections.defaultdict(dict)\n",
    "\n",
    "# Initialising states to be tracked\n",
    "def initialise_tracking_states():\n",
    "    Sample_Qvalues = [('x-x-x-x-x-x-x-x-x',(6,5)),('x-x-x-x-x-x-x-x-x',(1,9)),\n",
    "                       ('x-3-x-x-1-x-x-x-x',(7,5)),('x-5-x-x-x-x-5-7-x',(8,2))]    #select some 4 Q-values\n",
    "    for q_values in Sample_Qvalues:\n",
    "        state = q_values[0]\n",
    "        action = q_values[1]\n",
    "        States_track[state][action] = []\n",
    "        \n",
    "#Defining a function to save the Q-dictionary as a pickle file\n",
    "\n",
    "def save_obj(obj, name ):\n",
    "    with open(name + '.pkl', 'wb') as f:\n",
    "        pickle.dump(obj, f, pickle.HIGHEST_PROTOCOL)\n",
    "        \n",
    "# definign a function for saving states tracking\n",
    "\n",
    "def save_tracking_states():\n",
    "    for state in States_track.keys():\n",
    "        for action in States_track[state].keys():\n",
    "            if state in Q_dict and action in Q_dict[state]:\n",
    "                States_track[state][action].append(Q_dict[state][action]) \n",
    "                \n",
    "#Defining hyperparameters for the training\n",
    "\n",
    "EPISODES = 50000\n",
    "LR = 0.01                   # learning rate\n",
    "GAMMA = 0.9                # discount factor\n",
    "\n",
    "max_epsilon = 1.0\n",
    "min_epsilon = 0.001\n",
    "decay_rate = 0.001        # epsilon decay rate\n",
    "threshold = 200       # no of episodes after which states_tracked wwill be saved\n",
    "policy_threshold = 300   # no of episodes after which Q dictionary/table will be saved"
   ]
  },
  {
   "cell_type": "code",
   "execution_count": 6,
   "id": "6505bee5",
   "metadata": {},
   "outputs": [],
   "source": [
    "initialise_tracking_states()"
   ]
  },
  {
   "cell_type": "markdown",
   "id": "c1c8ac51",
   "metadata": {},
   "source": [
    "#### An agent that learns the game by Q-Learning"
   ]
  },
  {
   "cell_type": "code",
   "execution_count": 7,
   "id": "5227e140",
   "metadata": {},
   "outputs": [],
   "source": [
    "import time \n",
    "start_time = time.time()\n",
    "\n",
    "for episode in range(EPISODES):\n",
    "    env = TicTacToe() # call the environment\n",
    "    curr_state = env.state    \n",
    "    done = False  \n",
    "    add_to_dict(curr_state)  # adding the current state to dictionary\n",
    "\n",
    "    while done != True:  \n",
    "        curr_state1 = Q_state(curr_state)\n",
    "        curr_action = epsilon_greedy(curr_state, episode)   # applying epislon method\n",
    "        next_state, reward, done = env.step(curr_state, curr_action) # getting reward\n",
    "        next_state_temp = Q_state(next_state)\n",
    "        add_to_dict(next_state)\n",
    "\n",
    "        # Updating rules\n",
    "        if done != True:\n",
    "            max_next = max(Q_dict[next_state_temp],key=Q_dict[next_state_temp].get)  \n",
    "                #this gets the action corresponding to max q-value of next state\n",
    "            Q_dict[curr_state1][curr_action] += LR * ((reward + (GAMMA*(Q_dict[next_state_temp][max_next])))\n",
    "                                                      - Q_dict[curr_state1][curr_action] ) \n",
    "        else:\n",
    "            Q_dict[curr_state1][curr_action] += LR * ((reward - Q_dict[curr_state1][curr_action]))\n",
    "\n",
    "        # navigating to next state\n",
    "        curr_state = next_state\n",
    "        \n",
    "     #states tracking   \n",
    "    if ((episode+1)%threshold)==0:\n",
    "        save_tracking_states()\n",
    "        save_obj(States_track,'States_tracking')\n",
    "\n",
    "    if ((episode+1)% policy_threshold) == 0:  #every 300th episodes, the Q-dict will be saved\n",
    "        save_obj(Q_dict,'Policy_Q_dict')  \n",
    "        \n",
    "\n",
    "elapsed_time = time.time() - start_time\n",
    "save_obj(States_track,'States_tracking')   \n",
    "save_obj(Q_dict,'Policy_Q_dict')\n",
    "\n",
    "#Q_dict  #uncomment for showing details of RL"
   ]
  },
  {
   "cell_type": "markdown",
   "id": "d5fdd204",
   "metadata": {},
   "source": [
    "#### Convergence Check"
   ]
  },
  {
   "cell_type": "code",
   "execution_count": 10,
   "id": "67ec38b9",
   "metadata": {},
   "outputs": [
    {
     "data": {
      "text/plain": [
       "<function matplotlib.pyplot.show(close=None, block=None)>"
      ]
     },
     "execution_count": 10,
     "metadata": {},
     "output_type": "execute_result"
    },
    {
     "data": {
      "image/png": "[encoded data removed]",
      "text/plain": [
       "<Figure size 1152x504 with 2 Axes>"
      ]
     },
     "metadata": {
      "needs_background": "light"
     },
     "output_type": "display_data"
    }
   ],
   "source": [
    "plt.figure(0, figsize=(16,7))\n",
    "\n",
    "x_axis = np.asarray(range(0, len(States_track['x-x-x-x-x-x-x-x-x'][(6,5)])))\n",
    "plt.subplot(221)\n",
    "plt.plot(x_axis,np.asarray(States_track['x-x-x-x-x-x-x-x-x'][(6,5)]))\n",
    "plt.show\n",
    "\n",
    "\n",
    "x_axis = np.asarray(range(0, len(States_track['x-x-x-x-x-x-x-x-x'][(1,9)])))\n",
    "plt.subplot(222)\n",
    "plt.plot(x_axis,np.asarray(States_track['x-x-x-x-x-x-x-x-x'][(1,9)]))\n",
    "plt.show\n",
    "\n",
    "#Checking whether Q-values learnt by the agent have converged or not"
   ]
  },
  {
   "cell_type": "code",
   "execution_count": null,
   "id": "8655aed8",
   "metadata": {},
   "outputs": [],
   "source": []
  }
 ],
 "metadata": {
  "kernelspec": {
   "display_name": "Python 3",
   "language": "python",
   "name": "python3"
  },
  "language_info": {
   "codemirror_mode": {
    "name": "ipython",
    "version": 3
   },
   "file_extension": ".py",
   "mimetype": "text/x-python",
   "name": "python",
   "nbconvert_exporter": "python",
   "pygments_lexer": "ipython3",
   "version": "3.9.6"
  }
 },
 "nbformat": 4,
 "nbformat_minor": 5
}
