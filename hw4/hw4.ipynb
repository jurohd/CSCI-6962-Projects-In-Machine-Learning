{
 "cells": [
  {
   "cell_type": "markdown",
   "metadata": {},
   "source": [
    "## HW4"
   ]
  },
  {
   "cell_type": "markdown",
   "metadata": {},
   "source": [
    "### Task 1:\n",
    "#### Part 1 (35 points): Implement your RNN either using an existing framework OR you can implement your own RNN cell structure. In either case, describe the structure of your RNN and the activation functions you are using for each time step and in the output layer. Define a metric you will use to measure the performance of your model (NOTE: Performance should be measured both for the validation set and the test set)."
   ]
  },
  {
   "cell_type": "code",
   "execution_count": 39,
   "metadata": {},
   "outputs": [],
   "source": [
    "%matplotlib inline\n",
    "import numpy as np\n",
    "import pandas as pd\n",
    "# import theano\n",
    "# import theano.tensor as T\n",
    "import keras \n",
    "\n",
    "import numpy as np\n",
    "import matplotlib.pyplot as plt\n",
    "\n",
    "from keras.models import Sequential\n",
    "from keras.layers import Dense, Activation, Dropout\n",
    "from keras.preprocessing import image\n",
    "\n",
    "from keras.datasets import imdb\n",
    "from keras.datasets import mnist\n",
    "\n",
    "from keras.utils import np_utils\n",
    "from keras.preprocessing import sequence\n",
    "from keras.layers.embeddings import Embedding\n",
    "from keras.layers.recurrent import LSTM, GRU, SimpleRNN\n",
    "\n"
   ]
  },
  {
   "cell_type": "markdown",
   "metadata": {},
   "source": [
    "## IMDB sentiment classification task"
   ]
  },
  {
   "cell_type": "markdown",
   "metadata": {},
   "source": [
    "This is a dataset for binary sentiment classification containing substantially more data than previous benchmark datasets. \n",
    "\n",
    "IMDB provided a set of 25,000 highly polar movie reviews for training, and 25,000 for testing. \n",
    "\n",
    "There is additional unlabeled data for use as well. Raw text and already processed bag of words formats are provided. \n",
    "\n",
    "reference: http://ai.stanford.edu/~amaas/data/sentiment/\n",
    "\n",
    "Why RNN for sentiment classification? RNN models are mostly used in the fields of natural language processing, dealing with sequential data. In sentiment classification for IMDB dataset, we are dealing with sequential input for outputing either positive or negative predictions."
   ]
  },
  {
   "cell_type": "code",
   "execution_count": 44,
   "metadata": {},
   "outputs": [
    {
     "name": "stdout",
     "output_type": "stream",
     "text": [
      "25000 train sequences\n",
      "25000 test sequences\n",
      "Pad sequences (samples x time)\n",
      "X_train shape: (24000, 100)\n",
      "X_val shape: (1000, 100)\n",
      "X_test shape: (25000, 100)\n"
     ]
    }
   ],
   "source": [
    "max_features = 20000\n",
    "maxlen = 100  # cut texts after this number of words (among top max_features most common words)\n",
    "batch_size = 32\n",
    "\n",
    "#Load data\n",
    "(X_train, y_train), (X_test, y_test) = imdb.load_data(num_words=max_features)\n",
    "print(len(X_train), 'train sequences')\n",
    "print(len(X_test), 'test sequences')\n",
    "\n",
    "print(\"Pad sequences (samples x time)\")\n",
    "X_train = sequence.pad_sequences(X_train, maxlen=maxlen)\n",
    "X_test = sequence.pad_sequences(X_test, maxlen=maxlen)\n",
    "\n",
    "num_validation = 1000\n",
    "X_val = X_train[-num_validation:]\n",
    "y_val = y_train[-num_validation:]\n",
    "X_train = X_train[:num_training]\n",
    "y_train = y_train[:num_training]\n",
    "\n",
    "print('X_train shape:', X_train.shape)\n",
    "print('X_val shape:', X_val.shape)\n",
    "print('X_test shape:', X_test.shape)"
   ]
  },
  {
   "cell_type": "markdown",
   "metadata": {},
   "source": [
    "### RNN  \n",
    "https://keras.io/api/layers/recurrent_layers/simple_rnn/"
   ]
  },
  {
   "cell_type": "markdown",
   "metadata": {},
   "source": [
    "```python\n",
    "keras.layers.recurrent.SimpleRNN(units, activation='tanh', use_bias=True, \n",
    "                                 kernel_initializer='glorot_uniform', \n",
    "                                 recurrent_initializer='orthogonal', \n",
    "                                 bias_initializer='zeros', \n",
    "                                 kernel_regularizer=None, \n",
    "                                 recurrent_regularizer=None, \n",
    "                                 bias_regularizer=None, \n",
    "                                 activity_regularizer=None, \n",
    "                                 kernel_constraint=None, recurrent_constraint=None, \n",
    "                                 bias_constraint=None, dropout=0.0, recurrent_dropout=0.0)\n",
    "```"
   ]
  },
  {
   "cell_type": "markdown",
   "metadata": {},
   "source": [
    "\n",
    "<tr>\n",
    "<td> <img src=\"./rnn-many-to-one-ltr.png\" alt=\"Drawing\" style=\"width: 250px;\"/> </td>\n",
    "<td> <img src=\"./description-block-rnn-ltr.png\" alt=\"Drawing\" style=\"width: 250px;\"/> </td>\n",
    "</tr>\n"
   ]
  },
  {
   "cell_type": "markdown",
   "metadata": {},
   "source": [
    "$a^{<t>}=g_{1}\\left(W_{a a} a^{<t-1>}+W_{a x} x^{<t>}+b_{a}\\right) \\quad \\text { and } y=g_{2}\\left(W_{y a} a^{<t>}+b_{y}\\right)$ where $W_{a x}, W_{a a}, W_{y a}, b_{a}, b_{y}$ are coefficients that are shared temporally and \n",
    "$g_1, g_2$ are activation functions. Actication functions here are tanh, where $$g(z)=\\frac{e^{z}-e^{-z}}{e^{z}+e^{-z}}$$\n",
    "\n",
    "\n",
    "<a href=\"https://stanford.edu/~shervine/teaching/cs-230/cheatsheet-recurrent-neural-networks\">https://stanford.edu/~shervine/teaching/cs-230/cheatsheet-recurrent-neural-networks</a>\n",
    "\n"
   ]
  },
  {
   "cell_type": "code",
   "execution_count": 64,
   "metadata": {},
   "outputs": [
    {
     "name": "stdout",
     "output_type": "stream",
     "text": [
      "Epoch 1/5\n",
      "750/750 [==============================] - 27s 36ms/step - loss: 0.5907 - val_loss: 0.5112\n",
      "Epoch 2/5\n",
      "750/750 [==============================] - 24s 32ms/step - loss: 0.4263 - val_loss: 0.6014\n",
      "Epoch 3/5\n",
      "750/750 [==============================] - 24s 32ms/step - loss: 0.3870 - val_loss: 0.5006\n",
      "Epoch 4/5\n",
      "750/750 [==============================] - 24s 32ms/step - loss: 0.3576 - val_loss: 0.5022\n",
      "Epoch 5/5\n",
      "750/750 [==============================] - 25s 34ms/step - loss: 0.2960 - val_loss: 0.5672\n"
     ]
    },
    {
     "data": {
      "text/plain": [
       "<keras.callbacks.History at 0x2a436faf0>"
      ]
     },
     "execution_count": 64,
     "metadata": {},
     "output_type": "execute_result"
    }
   ],
   "source": [
    "model = Sequential()\n",
    "model.add(Embedding(max_features, 128, input_length=maxlen))\n",
    "model.add(SimpleRNN(128))  \n",
    "model.add(Dense(1))\n",
    "model.add(Activation('sigmoid'))\n",
    "\n",
    "model.compile(loss='binary_crossentropy', optimizer='adam')\n",
    "\n",
    "model.fit(X_train, y_train, batch_size=batch_size, \n",
    "          epochs=5, validation_data=(X_val, y_val))\n",
    "\n"
   ]
  },
  {
   "cell_type": "markdown",
   "metadata": {},
   "source": [
    "#### The metric we use for classification is accuracy, which is defined as the ratio of correct prediction over total predictions."
   ]
  },
  {
   "cell_type": "code",
   "execution_count": 65,
   "metadata": {
    "scrolled": true
   },
   "outputs": [
    {
     "name": "stdout",
     "output_type": "stream",
     "text": [
      "training accuracy: 0.9166666666666666\n",
      "val accuracy: 0.761\n",
      "Test accuracy: 0.77408\n"
     ]
    }
   ],
   "source": [
    "y_pred = model.predict(X_train)\n",
    "for i in range(len(y_pred)):\n",
    "    if y_pred[i]>0.5:\n",
    "        y_pred[i] = 1\n",
    "    else:\n",
    "        y_pred[i] = 0\n",
    "y_pred = y_pred.flatten()\n",
    "acc = np.mean(np.equal(y_train, y_pred))\n",
    "print('training accuracy:', acc)\n",
    "\n",
    "y_pred = model.predict(X_val)\n",
    "for i in range(len(y_pred)):\n",
    "    if y_pred[i]>0.5:\n",
    "        y_pred[i] = 1\n",
    "    else:\n",
    "        y_pred[i] = 0\n",
    "y_pred = y_pred.flatten()\n",
    "acc = np.mean(np.equal(y_val, y_pred))\n",
    "print('val accuracy:', acc)\n",
    "\n",
    "y_pred = model.predict(X_test)\n",
    "for i in range(len(y_pred)):\n",
    "    if y_pred[i]>0.5:\n",
    "        y_pred[i] = 1\n",
    "    else:\n",
    "        y_pred[i] = 0\n",
    "y_pred = y_pred.flatten()\n",
    "acc = np.mean(np.equal(y_test, y_pred))\n",
    "# print('Test score:', score)\n",
    "print('Test accuracy:', acc)"
   ]
  },
  {
   "cell_type": "markdown",
   "metadata": {},
   "source": [
    "#### Part 2 (25 points): Update your network from part 1 with either an LSTM or a GRU based cell structure. Re-do the training and performance evaluation. What are the major differences you notice? Why do you think those differences exist between the 2 implementations?\n",
    "\n",
    "### LSTM  \n",
    "https://keras.io/api/layers/recurrent_layers/lstm/\n",
    "\n",
    "<img src=\"./lstm-ltr.png\" alt=\"Drawing\" style=\"width: 250px;\"/>\n",
    "$$\\Gamma=\\sigma\\left(W x^{<t>}+U a^{<t-1>}+b\\right)$$ where $W,U,b$ are coefficients specific to the gate and $\\sigma$ is the sigmoid function. \n",
    "$$\\tilde{c}^{<t>} = \\tanh \\left(W_{c}\\left[\\Gamma_{r} \\cdot a^{<t-1>}, x^{<t>}\\right]+b_{c}\\right)$$\n",
    "$${c}^{<t>} = \\Gamma_{u} \\cdot \\tilde{c}^{<t>}+\\Gamma_{f} \\cdot c^{<t-1>}$$\n",
    "$${a}^{<t>} = \\Gamma_{o} \\cdot c^{<t>}$$"
   ]
  },
  {
   "cell_type": "markdown",
   "metadata": {
    "collapsed": true
   },
   "source": [
    "```python\n",
    "keras.layers.recurrent.LSTM(units, activation='tanh', recurrent_activation='hard_sigmoid', use_bias=True, \n",
    "                            kernel_initializer='glorot_uniform', recurrent_initializer='orthogonal', \n",
    "                            bias_initializer='zeros', unit_forget_bias=True, kernel_regularizer=None, \n",
    "                            recurrent_regularizer=None, bias_regularizer=None, activity_regularizer=None, \n",
    "                            kernel_constraint=None, recurrent_constraint=None, bias_constraint=None, \n",
    "                            dropout=0.0, recurrent_dropout=0.0)\n",
    "```"
   ]
  },
  {
   "cell_type": "code",
   "execution_count": 55,
   "metadata": {},
   "outputs": [
    {
     "name": "stdout",
     "output_type": "stream",
     "text": [
      "Train...\n",
      "Epoch 1/5\n",
      "750/750 [==============================] - 46s 61ms/step - loss: 0.4220 - val_loss: 0.3502\n",
      "Epoch 2/5\n",
      "750/750 [==============================] - 45s 61ms/step - loss: 0.2354 - val_loss: 0.3778\n",
      "Epoch 3/5\n",
      "750/750 [==============================] - 47s 62ms/step - loss: 0.1453 - val_loss: 0.4282\n",
      "Epoch 4/5\n",
      "750/750 [==============================] - 48s 64ms/step - loss: 0.0916 - val_loss: 0.5002\n",
      "Epoch 5/5\n",
      "750/750 [==============================] - 50s 66ms/step - loss: 0.0610 - val_loss: 0.6615\n",
      "782/782 [==============================] - 12s 15ms/step - loss: 0.6973\n"
     ]
    }
   ],
   "source": [
    "model = Sequential()\n",
    "model.add(Embedding(max_features, 128, input_length=maxlen)) \n",
    "model.add(LSTM(128))  \n",
    "model.add(Dense(1))\n",
    "model.add(Activation('sigmoid'))\n",
    "\n",
    "model.compile(loss='binary_crossentropy', optimizer='adam')\n",
    "\n",
    "model.fit(X_train, y_train, batch_size=batch_size, \n",
    "          epochs=5, validation_data=(X_val, y_val))"
   ]
  },
  {
   "cell_type": "code",
   "execution_count": 61,
   "metadata": {},
   "outputs": [
    {
     "name": "stdout",
     "output_type": "stream",
     "text": [
      "training accuracy: 0.9856666666666667\n",
      "val accuracy: 0.822\n",
      "Test accuracy: 0.82424\n"
     ]
    }
   ],
   "source": [
    "y_pred = model.predict(X_train)\n",
    "for i in range(len(y_pred)):\n",
    "    if y_pred[i]>0.5:\n",
    "        y_pred[i] = 1\n",
    "    else:\n",
    "        y_pred[i] = 0\n",
    "y_pred = y_pred.flatten()\n",
    "acc = np.mean(np.equal(y_train, y_pred))\n",
    "print('training accuracy:', acc)\n",
    "\n",
    "y_pred = model.predict(X_val)\n",
    "for i in range(len(y_pred)):\n",
    "    if y_pred[i]>0.5:\n",
    "        y_pred[i] = 1\n",
    "    else:\n",
    "        y_pred[i] = 0\n",
    "y_pred = y_pred.flatten()\n",
    "acc = np.mean(np.equal(y_val, y_pred))\n",
    "print('val accuracy:', acc)\n",
    "\n",
    "y_pred = model.predict(X_test)\n",
    "for i in range(len(y_pred)):\n",
    "    if y_pred[i]>0.5:\n",
    "        y_pred[i] = 1\n",
    "    else:\n",
    "        y_pred[i] = 0\n",
    "y_pred = y_pred.flatten()\n",
    "acc = np.mean(np.equal(y_test, y_pred))\n",
    "# print('Test score:', score)\n",
    "print('Test accuracy:', acc)"
   ]
  },
  {
   "cell_type": "markdown",
   "metadata": {},
   "source": [
    "### GRU  \n",
    "https://keras.io/api/layers/recurrent_layers/gru/\n",
    "<img src=\"./gru-ltr.png\" alt=\"Drawing\" style=\"width: 250px;\"/>\n",
    "$$\\tilde{c}^{<t>} = \\tanh \\left(W_{c}\\left[\\Gamma_{r} \\cdot a^{<t-1>}, x^{<t>}\\right]+b_{c}\\right)$$\n",
    "$${c}^{<t>} = \\Gamma_{u} \\cdot \\tilde{c}^{<t>}+\\left(1-\\Gamma_{u}\\right) \\cdot c^{<t-1>}$$\n",
    "$${a}^{<t>} = c^{<t>}$$"
   ]
  },
  {
   "cell_type": "markdown",
   "metadata": {
    "collapsed": true
   },
   "source": [
    "```python\n",
    "keras.layers.recurrent.GRU(units, activation='tanh', recurrent_activation='hard_sigmoid', use_bias=True, \n",
    "                           kernel_initializer='glorot_uniform', recurrent_initializer='orthogonal', \n",
    "                           bias_initializer='zeros', kernel_regularizer=None, recurrent_regularizer=None, \n",
    "                           bias_regularizer=None, activity_regularizer=None, kernel_constraint=None, \n",
    "                           recurrent_constraint=None, bias_constraint=None, \n",
    "                           dropout=0.0, recurrent_dropout=0.0)\n",
    "```"
   ]
  },
  {
   "cell_type": "code",
   "execution_count": 62,
   "metadata": {},
   "outputs": [
    {
     "name": "stdout",
     "output_type": "stream",
     "text": [
      "Epoch 1/5\n",
      "750/750 [==============================] - 42s 54ms/step - loss: 0.4581 - val_loss: 0.3784\n",
      "Epoch 2/5\n",
      "750/750 [==============================] - 41s 54ms/step - loss: 0.2468 - val_loss: 0.4013\n",
      "Epoch 3/5\n",
      "750/750 [==============================] - 42s 57ms/step - loss: 0.1414 - val_loss: 0.4122\n",
      "Epoch 4/5\n",
      "750/750 [==============================] - 42s 56ms/step - loss: 0.0735 - val_loss: 0.5356\n",
      "Epoch 5/5\n",
      "750/750 [==============================] - 42s 56ms/step - loss: 0.0388 - val_loss: 0.6831\n"
     ]
    },
    {
     "data": {
      "text/plain": [
       "<keras.callbacks.History at 0x29cd0a9d0>"
      ]
     },
     "execution_count": 62,
     "metadata": {},
     "output_type": "execute_result"
    }
   ],
   "source": [
    "model = Sequential()\n",
    "model.add(Embedding(max_features, 128, input_length=maxlen))\n",
    "model.add(GRU(128))  \n",
    "model.add(Dense(1))\n",
    "model.add(Activation('sigmoid'))\n",
    "\n",
    "model.compile(loss='binary_crossentropy', optimizer='adam')\n",
    "\n",
    "model.fit(X_train, y_train, batch_size=batch_size, \n",
    "          epochs=5, validation_data=(X_val, y_val))\n"
   ]
  },
  {
   "cell_type": "code",
   "execution_count": 63,
   "metadata": {},
   "outputs": [
    {
     "name": "stdout",
     "output_type": "stream",
     "text": [
      "training accuracy: 0.9958333333333333\n",
      "val accuracy: 0.833\n",
      "Test accuracy: 0.83404\n"
     ]
    }
   ],
   "source": [
    "y_pred = model.predict(X_train)\n",
    "for i in range(len(y_pred)):\n",
    "    if y_pred[i]>0.5:\n",
    "        y_pred[i] = 1\n",
    "    else:\n",
    "        y_pred[i] = 0\n",
    "y_pred = y_pred.flatten()\n",
    "acc = np.mean(np.equal(y_train, y_pred))\n",
    "print('training accuracy:', acc)\n",
    "\n",
    "y_pred = model.predict(X_val)\n",
    "for i in range(len(y_pred)):\n",
    "    if y_pred[i]>0.5:\n",
    "        y_pred[i] = 1\n",
    "    else:\n",
    "        y_pred[i] = 0\n",
    "y_pred = y_pred.flatten()\n",
    "acc = np.mean(np.equal(y_val, y_pred))\n",
    "print('val accuracy:', acc)\n",
    "\n",
    "y_pred = model.predict(X_test)\n",
    "for i in range(len(y_pred)):\n",
    "    if y_pred[i]>0.5:\n",
    "        y_pred[i] = 1\n",
    "    else:\n",
    "        y_pred[i] = 0\n",
    "y_pred = y_pred.flatten()\n",
    "acc = np.mean(np.equal(y_test, y_pred))\n",
    "# print('Test score:', score)\n",
    "print('Test accuracy:', acc)"
   ]
  },
  {
   "cell_type": "markdown",
   "metadata": {},
   "source": [
    "#### For LSTM and GRU, we clearly see a faster convergence for the training loss and improved prediction accuracy for test and validation dataset."
   ]
  },
  {
   "cell_type": "markdown",
   "metadata": {},
   "source": [
    "### Task 2:\n",
    "In this task, use any of the pre-trained word embeddings. The Wor2vec embedding link provided with the lecture notes can be useful to get started. Write your own code/function that uses these embeddings and outputs cosine similarity and a dissimilarity score for any 2 pair of words (read as user input). The dissimilarity score should be defined by you. You either can have your own idea of a dissimilarity score or refer to literature (cite the paper you used). In either case clearly describe how this score helps determine the dissimilarity between 2 words."
   ]
  },
  {
   "cell_type": "code",
   "execution_count": 8,
   "metadata": {},
   "outputs": [
    {
     "name": "stderr",
     "output_type": "stream",
     "text": [
      "[nltk_data] Downloading package brown to /Users/ulysses/nltk_data...\n",
      "[nltk_data]   Package brown is already up-to-date!\n"
     ]
    },
    {
     "name": "stdout",
     "output_type": "stream",
     "text": [
      "3 words similar to car\n",
      "('truck', 0.7733270525932312)\n",
      "('boat', 0.7584270238876343)\n",
      "('wagon', 0.7152294516563416)\n",
      "\n"
     ]
    },
    {
     "data": {
      "image/png": "[encoded data removed]",
      "text/plain": [
       "<Figure size 432x288 with 1 Axes>"
      ]
     },
     "metadata": {
      "needs_background": "light"
     },
     "output_type": "display_data"
    }
   ],
   "source": [
    "#Vanilla example for word2vec embedding\n",
    "import string\n",
    "import nltk\n",
    "from nltk.corpus import brown\n",
    "from gensim.models import Word2Vec\n",
    "from sklearn.decomposition import PCA\n",
    "from matplotlib import pyplot\n",
    " \n",
    "nltk.download(\"brown\")\n",
    " \n",
    "# Preprocessing data to lowercase all words and remove single punctuation words\n",
    "document = brown.sents()\n",
    "data = []\n",
    "for sent in document:\n",
    "    new_sent = []\n",
    "    for word in sent:\n",
    "        new_word = word.lower()\n",
    "        if new_word[0] not in string.punctuation:\n",
    "            new_sent.append(new_word)\n",
    "    if len(new_sent) > 0:\n",
    "        data.append(new_sent)\n",
    "        \n",
    "# Creating Word2Vec\n",
    "model = Word2Vec(\n",
    "    sentences = data,\n",
    "    vector_size = 50,\n",
    "    window = 10,\n",
    "    epochs = 20,\n",
    ")\n",
    " \n",
    "# Finding most similar words\n",
    "print(\"3 words similar to car\")\n",
    "words = model.wv.most_similar(\"car\", topn=3)\n",
    "for word in words:\n",
    "    print(word)\n",
    "print()\n",
    " \n",
    "#Visualizing data\n",
    "words = [\"france\", \"germany\", \"india\", \"truck\", \"car\",\"road\", \"teacher\", \"student\"]\n",
    " \n",
    "X = model.wv[words]\n",
    "pca = PCA(n_components=2)\n",
    "result = pca.fit_transform(X)\n",
    " \n",
    "pyplot.scatter(result[:, 0], result[:, 1])\n",
    "for i, word in enumerate(words):\n",
    "    pyplot.annotate(word, xy=(result[i, 0], result[i, 1]))\n",
    "pyplot.show()"
   ]
  },
  {
   "cell_type": "markdown",
   "metadata": {},
   "source": [
    "Cosine similarity of two n-dimensional vectors $\\mathbf{w_1}$ and $\\mathbf{w_2}$ is defined as:\n",
    "$$\\cos(\\mathbf{w_1},\\mathbf{w_2})=\\frac{\\mathbf{w_1} \\cdot \\mathbf{w_2}}{\\|\\mathbf{w_1}\\|\\|\\mathbf{w_2}\\|}=\\frac{\\sum_{i=1}^{n} {\\mathbf{w_{1_i}}} {\\mathbf{w_{2_i}}}}{\\sqrt{\\sum_{i=1}^{n} {{\\mathbf{w_{1_i}}}^{2}}} \\sqrt{\\sum_{i=1}^{n} {\\mathbf{w_{2_i}}}^{2}}}$$\n",
    "<img src=\"./cosine-similarity.png\" alt=\"Drawing\" style=\"width: 250px;\"/>\\ "
   ]
  },
  {
   "cell_type": "code",
   "execution_count": 10,
   "metadata": {},
   "outputs": [],
   "source": [
    "# download pre-trained word2vec embeddings from gensim\n",
    "# reference: https://radimrehurek.com/gensim/models/word2vec.html\n",
    "\n",
    "import gensim\n",
    "import gensim.downloader\n",
    " \n",
    "google_news_vectors = gensim.downloader.load('word2vec-google-news-300')"
   ]
  },
  {
   "cell_type": "code",
   "execution_count": 32,
   "metadata": {},
   "outputs": [
    {
     "name": "stdout",
     "output_type": "stream",
     "text": [
      "5 similar words to BMW:\n",
      "('Audi', 0.7932199835777283)\n",
      "('Mercedes_Benz', 0.7683466672897339)\n",
      "('Porsche', 0.7272197604179382)\n",
      "('Mercedes', 0.7078384160995483)\n",
      "('Volkswagen', 0.6959410905838013)\n",
      "\n",
      "3 similar words to China:\n",
      "('Chinese', 0.7678080797195435)\n",
      "('Beijing', 0.7648460865020752)\n",
      "('Taiwan', 0.7081157565116882)\n",
      "\n",
      "Cosine similarity between fight and battle: 0.7021284\n",
      "\n",
      "Cosine similarity between China and book: 0.055054046\n"
     ]
    }
   ],
   "source": [
    "# Finding words similar to BMW\n",
    "print(\"5 similar words to BMW:\")\n",
    "words = google_news_vectors.most_similar(\"BMW\", topn=5)\n",
    "for word in words:\n",
    "    print(word)\n",
    "print()\n",
    " \n",
    "# Finding words similar to Love\n",
    "print(\"3 similar words to China:\")\n",
    "words = google_news_vectors.most_similar(\"China\", topn=3)\n",
    "for word in words:\n",
    "    print(word)\n",
    "print()\n",
    " \n",
    "# Finding cosine similarity between fight and battle\n",
    "cosine = google_news_vectors.similarity(\"fight\", \"battle\")\n",
    "print(\"Cosine similarity between fight and battle:\", cosine)\n",
    "print()\n",
    " \n",
    "# Finding cosine similarity between fight and love\n",
    "cosine = google_news_vectors.similarity(\"China\", \"book\")\n",
    "print(\"Cosine similarity between China and book:\", cosine)"
   ]
  },
  {
   "cell_type": "markdown",
   "metadata": {},
   "source": [
    "### dissimilarity measure\n",
    "So I define my dissimilarity measure as $$\\text {dissim}(\\mathbf{w_1},\\mathbf{w_2})=\\left(\\frac{1}{\\cos(\\mathbf{w_1},\\mathbf{w_2})}-1\\right)||\\mathbf{w_1}-\\mathbf{w_2}||_2^2$$ We know that cosine similarity values range between -1 and 1, where -1 is indicating two word vectors are on opposite direction and 1 is they pointing at the same direction, but we also need to take their euclidean distance into account because two word can be dissimilar even if their vectors are pointing into same direction. In this metric, the furthur this dissimilarity measure to zero, the more dissimilar the two words are. 0 means they are the same."
   ]
  },
  {
   "cell_type": "code",
   "execution_count": 33,
   "metadata": {},
   "outputs": [
    {
     "name": "stdout",
     "output_type": "stream",
     "text": [
      "Dissimilarity between fight and battle: 0.92319846\n",
      "Dissimilarity between fight and love: 61.747517\n"
     ]
    }
   ],
   "source": [
    "import numpy as np\n",
    "\n",
    "# Finding dissimilarity between fight and battle\n",
    "cosine = google_news_vectors.similarity(\"fight\", \"battle\")\n",
    "euclidean = np.linalg.norm(google_news_vectors['fight'] - google_news_vectors['battle'])\n",
    "print(\"Dissimilarity between fight and battle:\", euclidean/(cosine)-euclidean)\n",
    " \n",
    "# Finding dissimilarity between fight and love\n",
    "cosine = google_news_vectors.similarity(\"China\", \"book\")\n",
    "euclidean = np.linalg.norm(google_news_vectors['China'] - google_news_vectors['book'])\n",
    "print(\"Dissimilarity between fight and love:\", euclidean/(cosine)-euclidean)"
   ]
  }
 ],
 "metadata": {
  "kernelspec": {
   "display_name": "Python 3",
   "language": "python",
   "name": "python3"
  },
  "language_info": {
   "codemirror_mode": {
    "name": "ipython",
    "version": 3
   },
   "file_extension": ".py",
   "mimetype": "text/x-python",
   "name": "python",
   "nbconvert_exporter": "python",
   "pygments_lexer": "ipython3",
   "version": "3.9.6"
  }
 },
 "nbformat": 4,
 "nbformat_minor": 1
}
